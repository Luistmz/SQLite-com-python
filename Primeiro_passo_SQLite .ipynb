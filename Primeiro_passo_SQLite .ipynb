{
 "cells": [
  {
   "cell_type": "code",
   "execution_count": null,
   "metadata": {},
   "outputs": [],
   "source": [
    "import sqlite3\n",
    "con = sqlite3.connect('escola.db')\n",
    "cur = con.cursor()\n",
    "sql_create = 'create table curso'\\\n",
    "'(id integer primary key,'\\\n",
    "'titulo varchar(100),' \\\n",
    "'categoria varchar(140))'\n",
    "\n",
    "cur.execute(sql_create)\n",
    "sql_insert = 'insert into curso values (?, ?, ?)'\n",
    "recset = [(1000, 'ing1026', 'informatica'),\n",
    "         (1001, 'eng1421', 'engenharia'),\n",
    "         (1002, 'eng1432', 'engenharia')]\n",
    "for rec in recset:\n",
    "    cur.execute(sql_insert,rec)\n",
    "    \n",
    "con.commit()\n",
    "sql_select = 'select *from curso'\n",
    "\n",
    "cur.execute(sql_select)\n",
    "dados = cur.fetchall()\n",
    "\n",
    "for linha in dados:\n",
    "    print('id do curso: %d, titulo: %s, categoria: %s \\n' %linha)"
   ]
  }
 ],
 "metadata": {
  "kernelspec": {
   "display_name": "Python 3",
   "language": "python",
   "name": "python3"
  },
  "language_info": {
   "codemirror_mode": {
    "name": "ipython",
    "version": 3
   },
   "file_extension": ".py",
   "mimetype": "text/x-python",
   "name": "python",
   "nbconvert_exporter": "python",
   "pygments_lexer": "ipython3",
   "version": "3.6.9"
  }
 },
 "nbformat": 4,
 "nbformat_minor": 2
}
